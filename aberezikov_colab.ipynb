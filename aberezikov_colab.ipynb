{
 "cells": [
  {
   "cell_type": "markdown",
   "metadata": {},
   "source": [
    "### Курсовой проект\n",
    "\n",
    "1. Обучить модель прогнозирования дохода человека (больше или меньше 50 тыс.долл.) на основе его личных характеристик\n",
    "2. Создать rest api сервис, к которому можно будет обращаться для получения прогнозов"
   ]
  },
  {
   "cell_type": "code",
   "execution_count": 10,
   "metadata": {
    "colab": {
     "base_uri": "https://localhost:8080/"
    },
    "id": "Pt9Ktej1n6qd",
    "outputId": "902071c2-e8cb-4af3-c919-5a97d7cde969"
   },
   "outputs": [
    {
     "name": "stdout",
     "output_type": "stream",
     "text": [
      "Collecting category_encoders\n",
      "  Downloading category_encoders-2.3.0-py2.py3-none-any.whl (82 kB)\n",
      "\u001b[?25l\r",
      "\u001b[K     |████                            | 10 kB 17.5 MB/s eta 0:00:01\r",
      "\u001b[K     |████████                        | 20 kB 24.8 MB/s eta 0:00:01\r",
      "\u001b[K     |████████████                    | 30 kB 12.5 MB/s eta 0:00:01\r",
      "\u001b[K     |████████████████                | 40 kB 9.6 MB/s eta 0:00:01\r",
      "\u001b[K     |████████████████████            | 51 kB 5.2 MB/s eta 0:00:01\r",
      "\u001b[K     |████████████████████████        | 61 kB 5.7 MB/s eta 0:00:01\r",
      "\u001b[K     |████████████████████████████    | 71 kB 5.5 MB/s eta 0:00:01\r",
      "\u001b[K     |███████████████████████████████▉| 81 kB 6.1 MB/s eta 0:00:01\r",
      "\u001b[K     |████████████████████████████████| 82 kB 383 kB/s \n",
      "\u001b[?25hRequirement already satisfied: scipy>=1.0.0 in /usr/local/lib/python3.7/dist-packages (from category_encoders) (1.4.1)\n",
      "Requirement already satisfied: patsy>=0.5.1 in /usr/local/lib/python3.7/dist-packages (from category_encoders) (0.5.2)\n",
      "Requirement already satisfied: pandas>=0.21.1 in /usr/local/lib/python3.7/dist-packages (from category_encoders) (1.1.5)\n",
      "Requirement already satisfied: numpy>=1.14.0 in /usr/local/lib/python3.7/dist-packages (from category_encoders) (1.19.5)\n",
      "Requirement already satisfied: statsmodels>=0.9.0 in /usr/local/lib/python3.7/dist-packages (from category_encoders) (0.10.2)\n",
      "Requirement already satisfied: scikit-learn>=0.20.0 in /usr/local/lib/python3.7/dist-packages (from category_encoders) (1.0.1)\n",
      "Requirement already satisfied: pytz>=2017.2 in /usr/local/lib/python3.7/dist-packages (from pandas>=0.21.1->category_encoders) (2018.9)\n",
      "Requirement already satisfied: python-dateutil>=2.7.3 in /usr/local/lib/python3.7/dist-packages (from pandas>=0.21.1->category_encoders) (2.8.2)\n",
      "Requirement already satisfied: six in /usr/local/lib/python3.7/dist-packages (from patsy>=0.5.1->category_encoders) (1.15.0)\n",
      "Requirement already satisfied: joblib>=0.11 in /usr/local/lib/python3.7/dist-packages (from scikit-learn>=0.20.0->category_encoders) (1.1.0)\n",
      "Requirement already satisfied: threadpoolctl>=2.0.0 in /usr/local/lib/python3.7/dist-packages (from scikit-learn>=0.20.0->category_encoders) (3.0.0)\n",
      "Installing collected packages: category-encoders\n",
      "Successfully installed category-encoders-2.3.0\n"
     ]
    }
   ],
   "source": [
    "pip install category_encoders"
   ]
  },
  {
   "cell_type": "code",
   "execution_count": 11,
   "metadata": {
    "colab": {
     "base_uri": "https://localhost:8080/"
    },
    "id": "TVSgNbeLoK5n",
    "outputId": "58a5840e-13c5-443a-b543-c81ea8062874"
   },
   "outputs": [
    {
     "name": "stdout",
     "output_type": "stream",
     "text": [
      "Collecting flask-ngrok\n",
      "  Downloading flask_ngrok-0.0.25-py3-none-any.whl (3.1 kB)\n",
      "Requirement already satisfied: requests in /usr/local/lib/python3.7/dist-packages (from flask-ngrok) (2.23.0)\n",
      "Requirement already satisfied: Flask>=0.8 in /usr/local/lib/python3.7/dist-packages (from flask-ngrok) (1.1.4)\n",
      "Requirement already satisfied: click<8.0,>=5.1 in /usr/local/lib/python3.7/dist-packages (from Flask>=0.8->flask-ngrok) (7.1.2)\n",
      "Requirement already satisfied: Jinja2<3.0,>=2.10.1 in /usr/local/lib/python3.7/dist-packages (from Flask>=0.8->flask-ngrok) (2.11.3)\n",
      "Requirement already satisfied: Werkzeug<2.0,>=0.15 in /usr/local/lib/python3.7/dist-packages (from Flask>=0.8->flask-ngrok) (1.0.1)\n",
      "Requirement already satisfied: itsdangerous<2.0,>=0.24 in /usr/local/lib/python3.7/dist-packages (from Flask>=0.8->flask-ngrok) (1.1.0)\n",
      "Requirement already satisfied: MarkupSafe>=0.23 in /usr/local/lib/python3.7/dist-packages (from Jinja2<3.0,>=2.10.1->Flask>=0.8->flask-ngrok) (2.0.1)\n",
      "Requirement already satisfied: certifi>=2017.4.17 in /usr/local/lib/python3.7/dist-packages (from requests->flask-ngrok) (2021.10.8)\n",
      "Requirement already satisfied: urllib3!=1.25.0,!=1.25.1,<1.26,>=1.21.1 in /usr/local/lib/python3.7/dist-packages (from requests->flask-ngrok) (1.24.3)\n",
      "Requirement already satisfied: idna<3,>=2.5 in /usr/local/lib/python3.7/dist-packages (from requests->flask-ngrok) (2.10)\n",
      "Requirement already satisfied: chardet<4,>=3.0.2 in /usr/local/lib/python3.7/dist-packages (from requests->flask-ngrok) (3.0.4)\n",
      "Installing collected packages: flask-ngrok\n",
      "Successfully installed flask-ngrok-0.0.25\n"
     ]
    }
   ],
   "source": [
    "pip install flask-ngrok"
   ]
  },
  {
   "cell_type": "code",
   "execution_count": 12,
   "metadata": {
    "colab": {
     "base_uri": "https://localhost:8080/"
    },
    "id": "rJm0LjflnppA",
    "outputId": "23c7cbc2-e0e2-4451-9c9e-6170fdca8d39"
   },
   "outputs": [
    {
     "name": "stderr",
     "output_type": "stream",
     "text": [
      "/usr/local/lib/python3.7/dist-packages/statsmodels/tools/_testing.py:19: FutureWarning: pandas.util.testing is deprecated. Use the functions in the public API at pandas.testing instead.\n",
      "  import pandas.util.testing as tm\n"
     ]
    }
   ],
   "source": [
    "import pandas as pd\n",
    "import numpy as np\n",
    "from sklearn.pipeline import Pipeline, make_pipeline\n",
    "from sklearn.base import BaseEstimator, TransformerMixin\n",
    "from sklearn.linear_model import LogisticRegression\n",
    "from sklearn.model_selection import train_test_split\n",
    "#from sklearn.feature_extraction.text import TfidfVectorizer\n",
    "import itertools\n",
    "import seaborn as sns\n",
    "import category_encoders as ce\n",
    "import dill\n",
    "\n",
    "from sklearn.neural_network import MLPClassifier\n",
    "\n",
    "from sklearn.model_selection import train_test_split, KFold, GridSearchCV, cross_val_score\n",
    "from sklearn.linear_model import LinearRegression, Lasso, Ridge\n",
    "from sklearn.ensemble import RandomForestClassifier, RandomForestRegressor, GradientBoostingRegressor\n",
    "from sklearn.tree import DecisionTreeRegressor, plot_tree, DecisionTreeClassifier\n",
    "from sklearn.preprocessing import StandardScaler, MinMaxScaler\n",
    "\n",
    "from sklearn.metrics import r2_score as r2, mean_squared_error as mse, roc_auc_score, recall_score\n",
    "\n",
    "from sklearn import svm\n",
    "from sklearn.svm import SVR\n",
    "\n",
    "import statsmodels.api as sm\n",
    "import statsmodels.formula.api as smf\n",
    "\n",
    "from xgboost import XGBRegressor\n",
    "from lightgbm import LGBMRegressor\n",
    "\n",
    "from sklearn.feature_extraction.text import TfidfVectorizer\n",
    "from sklearn.linear_model import LogisticRegression\n",
    "from sklearn.model_selection import cross_val_score, train_test_split\n",
    "from scipy.sparse import hstack\n",
    "from sklearn.pipeline import Pipeline, make_pipeline\n",
    "from sklearn.base import BaseEstimator, TransformerMixin\n",
    "\n",
    "from sklearn.ensemble import AdaBoostClassifier\n",
    "from sklearn.ensemble import GradientBoostingClassifier\n",
    "\n",
    "\n",
    "from sklearn.metrics import f1_score, roc_auc_score, precision_score, classification_report, precision_recall_curve, confusion_matrix\n",
    "import itertools\n",
    "\n",
    "from sklearn.metrics import precision_recall_curve, roc_curve, roc_auc_score\n",
    "\n",
    "import matplotlib.pyplot as plt\n",
    "\n",
    "%matplotlib inline"
   ]
  },
  {
   "cell_type": "markdown",
   "metadata": {
    "id": "Zp2HtisKnppB"
   },
   "source": [
    "Title: База данных UCI взрослых. Предсказать, если доход> или <50 тыс. Долларов США на основе данных переписи\n",
    "\n",
    "Attributes:\n",
    "1. age\t\tu  (16,Inf]\t# Person's age\n",
    "2. workclass   u Private Self-emp-not-inc Self-emp-inc Federal-gov  Local-gov State-gov Without-pay Never-worked # Work type\n",
    "3. fnlwgt      u  [-Inf,Inf]\t# ??\n",
    "4. education   u Preschool 1st-4th 5th-6th 7th-8th 9th 10th 11th 12th HS-grad Assoc-acdm Assoc-voc Some-college Prof-school Bachelors Masters Doctorate # Education level\n",
    "5. educational-num u [0,Inf] #\n",
    "6. marital-status  u  Married-civ-spouse Divorced Never-married Separated Widowed Married-spouse-absent Married-AF-spouse\t# \n",
    "7. occupation  u  Tech-support Craft-repair Other-service Sales Exec-managerial Prof-specialty Handlers-cleaners Machine-op-inspct Adm-clerical Farming-fishing Transport-moving Priv-house-serv Protective-serv Armed-Forces # \n",
    "8. relationship u Wife Own-child Husband Not-in-family Other-relative Unmarried\t# \n",
    "9. race\t u  White Asian-Pac-Islander Amer-Indian-Eskimo Other Black\n",
    "10. gender\t u  Female Male\t# \n",
    "11. capital-gain u [0,Inf] #\n",
    "12. capital-loss u [0,Inf] #\n",
    "13. hours-per-week u [0,168] #\n",
    "14. native-country u United-States Cambodia England Puerto-Rico Canada Germany Outlying-US(Guam-USVI-etc) India Japan Greece South China Cuba Iran Honduras Philippines Italy Poland Jamaica Vietnam Mexico Portugal Ireland France Dominican-Republic Laos Ecuador Taiwan Haiti Columbia Hungary Guatemala Nicaragua Scotland Thailand Yugoslavia El-Salvador Trinadad&Tobago Peru Hong Holand-Netherlands #\n",
    "15. income\t   u <=50K >50K # Income breakpoint"
   ]
  },
  {
   "cell_type": "markdown",
   "metadata": {
    "id": "hbFlUGjenppC"
   },
   "source": [
    "## Содержание\n",
    "* [1. Общее описание датасета](#prep)\n",
    "* [2. Целевая переменная](#target)\n",
    "* [3. Признаки](#features)\n",
    "* [4. Обработка датасета](#prepare)\n",
    "* [5. Моделирование](#models)\n",
    "* [6. Pipeline](#pipeline)\n",
    "* [7. Проверка Pipeline](#check)\n",
    "* [8. Проверка API Pipeline](#apicheck)\n"
   ]
  },
  {
   "cell_type": "code",
   "execution_count": 12,
   "metadata": {
    "id": "kaq5kF-SnppC"
   },
   "outputs": [],
   "source": []
  },
  {
   "cell_type": "markdown",
   "metadata": {
    "id": "1jU1YGvdnppC"
   },
   "source": [
    "# 1. Общее описание датасета<a class='anchor' id='prep'>"
   ]
  },
  {
   "cell_type": "code",
   "execution_count": 13,
   "metadata": {
    "id": "7LpjD5pjnppD"
   },
   "outputs": [],
   "source": [
    "data = '/home/Dataset.data'"
   ]
  },
  {
   "cell_type": "code",
   "execution_count": 14,
   "metadata": {
    "id": "42zryJ9qnppD"
   },
   "outputs": [],
   "source": [
    "df = pd.read_csv(data, sep=' ')\n",
    "\n",
    "df.columns=[\"age\", \"workclass\", \"fnlwgt\", \"education\", \"educational-num\", \"marital-status\", \"occupation\", \"relationship\", \n",
    "            \"race\", \"gender\", \"capital-gain\", \"capital-loss\", \"hours-per-week\", \"native-country\", \"target_50k\"]"
   ]
  },
  {
   "cell_type": "code",
   "execution_count": 15,
   "metadata": {
    "colab": {
     "base_uri": "https://localhost:8080/",
     "height": 327
    },
    "id": "5fCML8oWnppD",
    "outputId": "c793bbab-428d-493c-caf3-f6529c28769d",
    "scrolled": false
   },
   "outputs": [
    {
     "data": {
      "text/html": [
       "<div>\n",
       "<style scoped>\n",
       "    .dataframe tbody tr th:only-of-type {\n",
       "        vertical-align: middle;\n",
       "    }\n",
       "\n",
       "    .dataframe tbody tr th {\n",
       "        vertical-align: top;\n",
       "    }\n",
       "\n",
       "    .dataframe thead th {\n",
       "        text-align: right;\n",
       "    }\n",
       "</style>\n",
       "<table border=\"1\" class=\"dataframe\">\n",
       "  <thead>\n",
       "    <tr style=\"text-align: right;\">\n",
       "      <th></th>\n",
       "      <th>age</th>\n",
       "      <th>workclass</th>\n",
       "      <th>fnlwgt</th>\n",
       "      <th>education</th>\n",
       "      <th>educational-num</th>\n",
       "      <th>marital-status</th>\n",
       "      <th>occupation</th>\n",
       "      <th>relationship</th>\n",
       "      <th>race</th>\n",
       "      <th>gender</th>\n",
       "      <th>capital-gain</th>\n",
       "      <th>capital-loss</th>\n",
       "      <th>hours-per-week</th>\n",
       "      <th>native-country</th>\n",
       "      <th>target_50k</th>\n",
       "    </tr>\n",
       "  </thead>\n",
       "  <tbody>\n",
       "    <tr>\n",
       "      <th>0</th>\n",
       "      <td>38</td>\n",
       "      <td>Private</td>\n",
       "      <td>89814</td>\n",
       "      <td>HS-grad</td>\n",
       "      <td>9</td>\n",
       "      <td>Married-civ-spouse</td>\n",
       "      <td>Farming-fishing</td>\n",
       "      <td>Husband</td>\n",
       "      <td>White</td>\n",
       "      <td>Male</td>\n",
       "      <td>0</td>\n",
       "      <td>0</td>\n",
       "      <td>50</td>\n",
       "      <td>United-States</td>\n",
       "      <td>&lt;=50K</td>\n",
       "    </tr>\n",
       "    <tr>\n",
       "      <th>1</th>\n",
       "      <td>28</td>\n",
       "      <td>Local-gov</td>\n",
       "      <td>336951</td>\n",
       "      <td>Assoc-acdm</td>\n",
       "      <td>12</td>\n",
       "      <td>Married-civ-spouse</td>\n",
       "      <td>Protective-serv</td>\n",
       "      <td>Husband</td>\n",
       "      <td>White</td>\n",
       "      <td>Male</td>\n",
       "      <td>0</td>\n",
       "      <td>0</td>\n",
       "      <td>40</td>\n",
       "      <td>United-States</td>\n",
       "      <td>&gt;50K</td>\n",
       "    </tr>\n",
       "    <tr>\n",
       "      <th>2</th>\n",
       "      <td>44</td>\n",
       "      <td>Private</td>\n",
       "      <td>160323</td>\n",
       "      <td>Some-college</td>\n",
       "      <td>10</td>\n",
       "      <td>Married-civ-spouse</td>\n",
       "      <td>Machine-op-inspct</td>\n",
       "      <td>Husband</td>\n",
       "      <td>Black</td>\n",
       "      <td>Male</td>\n",
       "      <td>7688</td>\n",
       "      <td>0</td>\n",
       "      <td>40</td>\n",
       "      <td>United-States</td>\n",
       "      <td>&gt;50K</td>\n",
       "    </tr>\n",
       "    <tr>\n",
       "      <th>3</th>\n",
       "      <td>18</td>\n",
       "      <td>?</td>\n",
       "      <td>103497</td>\n",
       "      <td>Some-college</td>\n",
       "      <td>10</td>\n",
       "      <td>Never-married</td>\n",
       "      <td>?</td>\n",
       "      <td>Own-child</td>\n",
       "      <td>White</td>\n",
       "      <td>Female</td>\n",
       "      <td>0</td>\n",
       "      <td>0</td>\n",
       "      <td>30</td>\n",
       "      <td>United-States</td>\n",
       "      <td>&lt;=50K</td>\n",
       "    </tr>\n",
       "    <tr>\n",
       "      <th>4</th>\n",
       "      <td>34</td>\n",
       "      <td>Private</td>\n",
       "      <td>198693</td>\n",
       "      <td>10th</td>\n",
       "      <td>6</td>\n",
       "      <td>Never-married</td>\n",
       "      <td>Other-service</td>\n",
       "      <td>Not-in-family</td>\n",
       "      <td>White</td>\n",
       "      <td>Male</td>\n",
       "      <td>0</td>\n",
       "      <td>0</td>\n",
       "      <td>30</td>\n",
       "      <td>United-States</td>\n",
       "      <td>&lt;=50K</td>\n",
       "    </tr>\n",
       "  </tbody>\n",
       "</table>\n",
       "</div>"
      ],
      "text/plain": [
       "   age  workclass  fnlwgt  ... hours-per-week  native-country target_50k\n",
       "0   38    Private   89814  ...             50   United-States      <=50K\n",
       "1   28  Local-gov  336951  ...             40   United-States       >50K\n",
       "2   44    Private  160323  ...             40   United-States       >50K\n",
       "3   18          ?  103497  ...             30   United-States      <=50K\n",
       "4   34    Private  198693  ...             30   United-States      <=50K\n",
       "\n",
       "[5 rows x 15 columns]"
      ]
     },
     "execution_count": 15,
     "metadata": {},
     "output_type": "execute_result"
    }
   ],
   "source": [
    "df.head()"
   ]
  },
  {
   "cell_type": "markdown",
   "metadata": {
    "id": "yxngbuvcnppE"
   },
   "source": [
    "Целью работы является построение модели прогнозирование дохода пользователя (больше или меньше 50 тыс долл) в зависимости от его личных параметров. \n",
    "\n",
    "Инструментом моделирования служат различные модели машинного обучения:\n",
    " - линейная регрессия (в т.ч. с регуляризацией если будет необходимо (при высокой автокорреляции));\n",
    " - дерево решений;\n",
    " - случайный лес;\n",
    " - gradient Boosting;\n",
    " - LGBMRegressor;\n",
    " - XGBRegressor... . \n",
    "\n",
    "Будут рассчитаны различные метрики качества моделей и выбрана наиболее оптимальная.\n",
    "\n",
    "В качестве проверки будет сделана дополнительная валидационная выборка. \n",
    "\n",
    "Далее будет построен pipeline и оценено качество модели на дополнительной подвыборке данных.\n",
    "\n",
    "Далее будет подготовлено api для возмодности удаленной работы с моделью.\n"
   ]
  },
  {
   "cell_type": "code",
   "execution_count": 15,
   "metadata": {
    "id": "COSZXB0vnppE"
   },
   "outputs": [],
   "source": []
  },
  {
   "cell_type": "markdown",
   "metadata": {
    "id": "O6_UmrHEnppF"
   },
   "source": [
    "## 2. Целевая переменная<a class='anchor' id='target'>"
   ]
  },
  {
   "cell_type": "code",
   "execution_count": 16,
   "metadata": {
    "id": "Ti698TPbnppF"
   },
   "outputs": [],
   "source": [
    "df.loc[(df['target_50k'] == '<=50K'), 'target_50k'] = 0\n",
    "df.loc[(df['target_50k'] == '>50K'), 'target_50k'] = 1"
   ]
  },
  {
   "cell_type": "code",
   "execution_count": 17,
   "metadata": {
    "colab": {
     "base_uri": "https://localhost:8080/",
     "height": 327
    },
    "id": "TfaQBj8anppF",
    "outputId": "0188696e-a18d-4ee4-e2a2-32f514f4ecae"
   },
   "outputs": [
    {
     "data": {
      "text/html": [
       "<div>\n",
       "<style scoped>\n",
       "    .dataframe tbody tr th:only-of-type {\n",
       "        vertical-align: middle;\n",
       "    }\n",
       "\n",
       "    .dataframe tbody tr th {\n",
       "        vertical-align: top;\n",
       "    }\n",
       "\n",
       "    .dataframe thead th {\n",
       "        text-align: right;\n",
       "    }\n",
       "</style>\n",
       "<table border=\"1\" class=\"dataframe\">\n",
       "  <thead>\n",
       "    <tr style=\"text-align: right;\">\n",
       "      <th></th>\n",
       "      <th>age</th>\n",
       "      <th>workclass</th>\n",
       "      <th>fnlwgt</th>\n",
       "      <th>education</th>\n",
       "      <th>educational-num</th>\n",
       "      <th>marital-status</th>\n",
       "      <th>occupation</th>\n",
       "      <th>relationship</th>\n",
       "      <th>race</th>\n",
       "      <th>gender</th>\n",
       "      <th>capital-gain</th>\n",
       "      <th>capital-loss</th>\n",
       "      <th>hours-per-week</th>\n",
       "      <th>native-country</th>\n",
       "      <th>target_50k</th>\n",
       "    </tr>\n",
       "  </thead>\n",
       "  <tbody>\n",
       "    <tr>\n",
       "      <th>0</th>\n",
       "      <td>38</td>\n",
       "      <td>Private</td>\n",
       "      <td>89814</td>\n",
       "      <td>HS-grad</td>\n",
       "      <td>9</td>\n",
       "      <td>Married-civ-spouse</td>\n",
       "      <td>Farming-fishing</td>\n",
       "      <td>Husband</td>\n",
       "      <td>White</td>\n",
       "      <td>Male</td>\n",
       "      <td>0</td>\n",
       "      <td>0</td>\n",
       "      <td>50</td>\n",
       "      <td>United-States</td>\n",
       "      <td>0</td>\n",
       "    </tr>\n",
       "    <tr>\n",
       "      <th>1</th>\n",
       "      <td>28</td>\n",
       "      <td>Local-gov</td>\n",
       "      <td>336951</td>\n",
       "      <td>Assoc-acdm</td>\n",
       "      <td>12</td>\n",
       "      <td>Married-civ-spouse</td>\n",
       "      <td>Protective-serv</td>\n",
       "      <td>Husband</td>\n",
       "      <td>White</td>\n",
       "      <td>Male</td>\n",
       "      <td>0</td>\n",
       "      <td>0</td>\n",
       "      <td>40</td>\n",
       "      <td>United-States</td>\n",
       "      <td>1</td>\n",
       "    </tr>\n",
       "    <tr>\n",
       "      <th>2</th>\n",
       "      <td>44</td>\n",
       "      <td>Private</td>\n",
       "      <td>160323</td>\n",
       "      <td>Some-college</td>\n",
       "      <td>10</td>\n",
       "      <td>Married-civ-spouse</td>\n",
       "      <td>Machine-op-inspct</td>\n",
       "      <td>Husband</td>\n",
       "      <td>Black</td>\n",
       "      <td>Male</td>\n",
       "      <td>7688</td>\n",
       "      <td>0</td>\n",
       "      <td>40</td>\n",
       "      <td>United-States</td>\n",
       "      <td>1</td>\n",
       "    </tr>\n",
       "    <tr>\n",
       "      <th>3</th>\n",
       "      <td>18</td>\n",
       "      <td>?</td>\n",
       "      <td>103497</td>\n",
       "      <td>Some-college</td>\n",
       "      <td>10</td>\n",
       "      <td>Never-married</td>\n",
       "      <td>?</td>\n",
       "      <td>Own-child</td>\n",
       "      <td>White</td>\n",
       "      <td>Female</td>\n",
       "      <td>0</td>\n",
       "      <td>0</td>\n",
       "      <td>30</td>\n",
       "      <td>United-States</td>\n",
       "      <td>0</td>\n",
       "    </tr>\n",
       "    <tr>\n",
       "      <th>4</th>\n",
       "      <td>34</td>\n",
       "      <td>Private</td>\n",
       "      <td>198693</td>\n",
       "      <td>10th</td>\n",
       "      <td>6</td>\n",
       "      <td>Never-married</td>\n",
       "      <td>Other-service</td>\n",
       "      <td>Not-in-family</td>\n",
       "      <td>White</td>\n",
       "      <td>Male</td>\n",
       "      <td>0</td>\n",
       "      <td>0</td>\n",
       "      <td>30</td>\n",
       "      <td>United-States</td>\n",
       "      <td>0</td>\n",
       "    </tr>\n",
       "  </tbody>\n",
       "</table>\n",
       "</div>"
      ],
      "text/plain": [
       "   age  workclass  fnlwgt  ... hours-per-week  native-country target_50k\n",
       "0   38    Private   89814  ...             50   United-States          0\n",
       "1   28  Local-gov  336951  ...             40   United-States          1\n",
       "2   44    Private  160323  ...             40   United-States          1\n",
       "3   18          ?  103497  ...             30   United-States          0\n",
       "4   34    Private  198693  ...             30   United-States          0\n",
       "\n",
       "[5 rows x 15 columns]"
      ]
     },
     "execution_count": 17,
     "metadata": {},
     "output_type": "execute_result"
    }
   ],
   "source": [
    "df.head()"
   ]
  },
  {
   "cell_type": "code",
   "execution_count": 18,
   "metadata": {
    "colab": {
     "base_uri": "https://localhost:8080/",
     "height": 282
    },
    "id": "JHUdPIgvnppF",
    "outputId": "10901fa7-fcfa-4584-abfa-8e0ff928fe24"
   },
   "outputs": [
    {
     "data": {
      "image/png": "[encoded data removed]",
      "text/plain": [
       "<Figure size 432x288 with 1 Axes>"
      ]
     },
     "metadata": {
      "needs_background": "light"
     },
     "output_type": "display_data"
    },
    {
     "name": "stdout",
     "output_type": "stream",
     "text": [
      "кол-во пропущенных значений 0\n"
     ]
    }
   ],
   "source": [
    "plt.hist(df['target_50k'], bins=None)\n",
    "plt.show()\n",
    "print('кол-во пропущенных значений', df['target_50k'].isnull().sum())"
   ]
  },
  {
   "cell_type": "markdown",
   "metadata": {
    "id": "NrCEHyrinppG"
   },
   "source": [
    "**Выводы:**\n",
    "\n",
    "Имеется несбалансированность, при моделировании необходимо это учесть"
   ]
  },
  {
   "cell_type": "code",
   "execution_count": 18,
   "metadata": {
    "id": "eeKyuCc4n4_h"
   },
   "outputs": [],
   "source": []
  },
  {
   "cell_type": "markdown",
   "metadata": {
    "id": "71CL8XBOnppG"
   },
   "source": [
    "## 3. Признаки<a class='anchor' id='features'>"
   ]
  },
  {
   "cell_type": "code",
   "execution_count": 19,
   "metadata": {
    "colab": {
     "base_uri": "https://localhost:8080/"
    },
    "id": "rSaS9nMEnppG",
    "outputId": "afc13c2e-0aa2-4ca0-fd59-39509b87a928"
   },
   "outputs": [
    {
     "data": {
      "text/plain": [
       "dtype('int64')"
      ]
     },
     "execution_count": 19,
     "metadata": {},
     "output_type": "execute_result"
    }
   ],
   "source": [
    "df[\"age\"].dtypes\n",
    "#оставляем, потребуется стандартизация"
   ]
  },
  {
   "cell_type": "code",
   "execution_count": 20,
   "metadata": {
    "colab": {
     "base_uri": "https://localhost:8080/"
    },
    "id": "ckx7YThOnppG",
    "outputId": "ad3a1e2a-8552-44ef-aa37-2cdc90a126fc"
   },
   "outputs": [
    {
     "data": {
      "text/plain": [
       "array(['Private', 'Local-gov', '?', 'Self-emp-not-inc', 'Federal-gov',\n",
       "       'State-gov', 'Self-emp-inc', 'Without-pay', 'Never-worked'],\n",
       "      dtype=object)"
      ]
     },
     "execution_count": 20,
     "metadata": {},
     "output_type": "execute_result"
    }
   ],
   "source": [
    "df[\"workclass\"].unique()\n",
    "#кодируем auto-encoder"
   ]
  },
  {
   "cell_type": "code",
   "execution_count": 21,
   "metadata": {
    "colab": {
     "base_uri": "https://localhost:8080/"
    },
    "id": "6tSyj80_nppH",
    "outputId": "06c43941-6e87-4488-91e0-6aff2d12d233"
   },
   "outputs": [
    {
     "data": {
      "text/plain": [
       "array(['HS-grad', 'Assoc-acdm', 'Some-college', '10th', 'Prof-school',\n",
       "       '7th-8th', 'Bachelors', 'Masters', 'Doctorate', '11th', '5th-6th',\n",
       "       'Assoc-voc', '9th', '12th', '1st-4th', 'Preschool'], dtype=object)"
      ]
     },
     "execution_count": 21,
     "metadata": {},
     "output_type": "execute_result"
    }
   ],
   "source": [
    "df[\"education\"].unique()\n",
    "#удаляем, как переменную используем следующей столбец"
   ]
  },
  {
   "cell_type": "code",
   "execution_count": 22,
   "metadata": {
    "colab": {
     "base_uri": "https://localhost:8080/"
    },
    "id": "NpWKIVX5nppH",
    "outputId": "c63d8bc1-2f8b-4641-bd10-2bea87ca60ec"
   },
   "outputs": [
    {
     "data": {
      "text/plain": [
       "array([ 9, 12, 10,  6, 15,  4, 13, 14, 16,  7,  3, 11,  5,  8,  2,  1])"
      ]
     },
     "execution_count": 22,
     "metadata": {},
     "output_type": "execute_result"
    }
   ],
   "source": [
    "df[\"educational-num\"].unique()\n",
    "#связан с предыдущим, чем лучше образование, там больший рейтинг"
   ]
  },
  {
   "cell_type": "code",
   "execution_count": 23,
   "metadata": {
    "colab": {
     "base_uri": "https://localhost:8080/"
    },
    "id": "obzb_R9onppH",
    "outputId": "2055362b-6d65-47de-b472-c7ea7cae27be"
   },
   "outputs": [
    {
     "data": {
      "text/plain": [
       "array(['Married-civ-spouse', 'Never-married', 'Widowed', 'Divorced',\n",
       "       'Separated', 'Married-spouse-absent', 'Married-AF-spouse'],\n",
       "      dtype=object)"
      ]
     },
     "execution_count": 23,
     "metadata": {},
     "output_type": "execute_result"
    }
   ],
   "source": [
    "df[\"marital-status\"].unique()\n",
    "#кодируем auto-encoder"
   ]
  },
  {
   "cell_type": "code",
   "execution_count": 24,
   "metadata": {
    "colab": {
     "base_uri": "https://localhost:8080/"
    },
    "id": "BzM9qCH-nppH",
    "outputId": "bf1f6dc5-97e2-4066-b86a-9ee62da120df"
   },
   "outputs": [
    {
     "data": {
      "text/plain": [
       "array(['Farming-fishing', 'Protective-serv', 'Machine-op-inspct', '?',\n",
       "       'Other-service', 'Prof-specialty', 'Craft-repair', 'Adm-clerical',\n",
       "       'Exec-managerial', 'Tech-support', 'Sales', 'Priv-house-serv',\n",
       "       'Transport-moving', 'Handlers-cleaners', 'Armed-Forces'],\n",
       "      dtype=object)"
      ]
     },
     "execution_count": 24,
     "metadata": {},
     "output_type": "execute_result"
    }
   ],
   "source": [
    "df[\"occupation\"].unique()\n",
    "#кодируем auto-encoder"
   ]
  },
  {
   "cell_type": "code",
   "execution_count": 25,
   "metadata": {
    "colab": {
     "base_uri": "https://localhost:8080/"
    },
    "id": "gax9js44nppI",
    "outputId": "82cce261-1574-4212-987a-176b01d0e24f"
   },
   "outputs": [
    {
     "data": {
      "text/plain": [
       "array(['Husband', 'Own-child', 'Not-in-family', 'Unmarried', 'Wife',\n",
       "       'Other-relative'], dtype=object)"
      ]
     },
     "execution_count": 25,
     "metadata": {},
     "output_type": "execute_result"
    }
   ],
   "source": [
    "df[\"relationship\"].unique()\n",
    "#кодируем auto-encoder"
   ]
  },
  {
   "cell_type": "code",
   "execution_count": 26,
   "metadata": {
    "colab": {
     "base_uri": "https://localhost:8080/"
    },
    "id": "U8UPwX4ZnppI",
    "outputId": "a42a6bf3-2723-4c1f-da81-3d3159999ba7"
   },
   "outputs": [
    {
     "data": {
      "text/plain": [
       "array(['White', 'Black', 'Asian-Pac-Islander', 'Other',\n",
       "       'Amer-Indian-Eskimo'], dtype=object)"
      ]
     },
     "execution_count": 26,
     "metadata": {},
     "output_type": "execute_result"
    }
   ],
   "source": [
    "df[\"race\"].unique()\n",
    "#кодируем auto-encoder"
   ]
  },
  {
   "cell_type": "code",
   "execution_count": 27,
   "metadata": {
    "colab": {
     "base_uri": "https://localhost:8080/"
    },
    "id": "HYb-OQvJnppI",
    "outputId": "3529b8b2-fdaa-4480-c91f-f8f96d7ec1af"
   },
   "outputs": [
    {
     "data": {
      "text/plain": [
       "array(['Male', 'Female'], dtype=object)"
      ]
     },
     "execution_count": 27,
     "metadata": {},
     "output_type": "execute_result"
    }
   ],
   "source": [
    "df[\"gender\"].unique()\n",
    "#male - 1, female - 0"
   ]
  },
  {
   "cell_type": "code",
   "execution_count": 28,
   "metadata": {
    "colab": {
     "base_uri": "https://localhost:8080/"
    },
    "id": "XPyYjxtSnppJ",
    "outputId": "9da7f73d-4b44-4e9d-dd40-6a33bf4ebb02"
   },
   "outputs": [
    {
     "data": {
      "text/plain": [
       "dtype('int64')"
      ]
     },
     "execution_count": 28,
     "metadata": {},
     "output_type": "execute_result"
    }
   ],
   "source": [
    "df[\"capital-gain\"].dtypes\n",
    "#оставляем, в дальнейшем потребуется стандартизация"
   ]
  },
  {
   "cell_type": "code",
   "execution_count": 29,
   "metadata": {
    "colab": {
     "base_uri": "https://localhost:8080/"
    },
    "id": "QVG14OnGnppJ",
    "outputId": "842d5f3a-bb2a-480b-e331-0e7221e6b286"
   },
   "outputs": [
    {
     "data": {
      "text/plain": [
       "dtype('int64')"
      ]
     },
     "execution_count": 29,
     "metadata": {},
     "output_type": "execute_result"
    }
   ],
   "source": [
    "df[\"capital-loss\"].dtypes\n",
    "#оставляем, в дальнейшем потребуется стандартизация"
   ]
  },
  {
   "cell_type": "code",
   "execution_count": 30,
   "metadata": {
    "colab": {
     "base_uri": "https://localhost:8080/"
    },
    "id": "P7fPG9qDnppJ",
    "outputId": "73b82b40-1fe0-46b1-8fa0-17613cd697fa"
   },
   "outputs": [
    {
     "data": {
      "text/plain": [
       "dtype('int64')"
      ]
     },
     "execution_count": 30,
     "metadata": {},
     "output_type": "execute_result"
    }
   ],
   "source": [
    "df[\"hours-per-week\"].dtypes\n",
    "#оставляем, в дальнейшем потребуется стандартизация"
   ]
  },
  {
   "cell_type": "code",
   "execution_count": 31,
   "metadata": {
    "colab": {
     "base_uri": "https://localhost:8080/"
    },
    "id": "auYLmvX2nppJ",
    "outputId": "d21d4682-9685-4e94-9d26-f09bbf744b2f"
   },
   "outputs": [
    {
     "data": {
      "text/plain": [
       "array(['United-States', '?', 'Peru', 'Guatemala', 'Mexico',\n",
       "       'Dominican-Republic', 'Ireland', 'Germany', 'Philippines',\n",
       "       'Thailand', 'Haiti', 'El-Salvador', 'Puerto-Rico', 'Vietnam',\n",
       "       'South', 'Columbia', 'Japan', 'India', 'Cambodia', 'Poland',\n",
       "       'Laos', 'England', 'Cuba', 'Taiwan', 'Italy', 'Canada', 'Portugal',\n",
       "       'China', 'Nicaragua', 'Honduras', 'Iran', 'Scotland', 'Jamaica',\n",
       "       'Ecuador', 'Yugoslavia', 'Hungary', 'Hong', 'Greece',\n",
       "       'Trinadad&Tobago', 'Outlying-US(Guam-USVI-etc)', 'France',\n",
       "       'Holand-Netherlands'], dtype=object)"
      ]
     },
     "execution_count": 31,
     "metadata": {},
     "output_type": "execute_result"
    }
   ],
   "source": [
    "df[\"native-country\"].unique()\n",
    "#кодируем auto-encoder"
   ]
  },
  {
   "cell_type": "code",
   "execution_count": 31,
   "metadata": {
    "id": "3ptfSJtHnppJ"
   },
   "outputs": [],
   "source": []
  },
  {
   "cell_type": "markdown",
   "metadata": {
    "id": "4daAddcrnppJ"
   },
   "source": [
    "#### **Выводы**\n",
    "\n",
    "К признакам\n",
    "\"workclass\", \"marital-status\", \"occupation\", \"relationship\", \"race\", \"native-country\"\n",
    "\n",
    "необхоимо применить CatBoostEncoder\n",
    "\n",
    "Также необходимо изменить тип столбцов gender и target_50k\n",
    "\n",
    "К столбцам 'age', 'educational-num', 'capital-gain', 'capital-loss', 'hours-per-week'\n",
    "необходимо применить стандартизацию."
   ]
  },
  {
   "cell_type": "code",
   "execution_count": 31,
   "metadata": {
    "id": "uqhWMbyUnppK"
   },
   "outputs": [],
   "source": []
  },
  {
   "cell_type": "markdown",
   "metadata": {
    "id": "CpsrJz2GnppK"
   },
   "source": [
    "## 4. Обработка датасета<a class='anchor' id='prepare'>"
   ]
  },
  {
   "cell_type": "code",
   "execution_count": 32,
   "metadata": {
    "id": "mQkI0SqunppK"
   },
   "outputs": [],
   "source": [
    "cbe_encoder = ce.cat_boost.CatBoostEncoder()\n",
    "scaler = StandardScaler()  "
   ]
  },
  {
   "cell_type": "code",
   "execution_count": 33,
   "metadata": {
    "id": "maU6TSlBnppK"
   },
   "outputs": [],
   "source": [
    "#функция для обработки тренингового датасета\n",
    "class DataPreprocessing:\n",
    "    \"\"\"Подготовка исходных данных\"\"\"\n",
    "    def transform(self, X):\n",
    "        \n",
    "        \"\"\"Трансформация данных\"\"\"\n",
    "        X.columns=[\"age\", \"workclass\", \"fnlwgt\", \"education\", \"educational-num\", \"marital-status\", \"occupation\", \"relationship\", \n",
    "            \"race\", \"gender\", \"capital-gain\", \"capital-loss\", \"hours-per-week\", \"native-country\", \"target_50k\"]\n",
    "        \n",
    "        #target\n",
    "        X.loc[(X['target_50k'] == '<=50K'), 'target_50k'] = 0\n",
    "        X.loc[(X['target_50k'] == '>50K'), 'target_50k'] = 1\n",
    "        X['target_50k'] = X['target_50k'].astype(np.float32)\n",
    "\n",
    "        # пол\n",
    "        X.loc[(X['gender'] == 'Male'), 'gender'] = 1\n",
    "        X.loc[(X['gender'] == 'Female'), 'gender'] = 0\n",
    "        X['gender'] = X['gender'].astype(np.float32)\n",
    "        \n",
    "        # text\n",
    "        cbe_encoder.fit(X[[\"workclass\", \"marital-status\", \"occupation\", \"relationship\", \"race\", \"native-country\"]], X['target_50k'])\n",
    "        X_cbe = cbe_encoder.transform(X[[\"workclass\", \"marital-status\", \"occupation\", \"relationship\", \"race\", \"native-country\"]])\n",
    "        \n",
    "        # data_itog\n",
    "        X_data = X_cbe.join(X[[\"age\", \"educational-num\", \"gender\", \"capital-gain\", \n",
    "                     \"capital-loss\", \"hours-per-week\", \"target_50k\"]])\n",
    "              \n",
    "        X_data[['age', 'educational-num', 'capital-gain', 'capital-loss', 'hours-per-week']] = scaler.fit_transform(X_data[['age', 'educational-num', 'capital-gain', 'capital-loss', 'hours-per-week']])\n",
    "        \n",
    "        return X_data\n",
    "\n"
   ]
  },
  {
   "cell_type": "code",
   "execution_count": 34,
   "metadata": {
    "id": "AH7Wv2xTnppK"
   },
   "outputs": [],
   "source": [
    "df = pd.read_csv(data, sep=' ')\n",
    "\n",
    "data = DataPreprocessing().transform(df)"
   ]
  },
  {
   "cell_type": "code",
   "execution_count": 35,
   "metadata": {
    "colab": {
     "base_uri": "https://localhost:8080/",
     "height": 223
    },
    "id": "z_5fV3a5nppK",
    "outputId": "20c95b2a-7f1b-4a09-928a-6034494c59c1"
   },
   "outputs": [
    {
     "data": {
      "text/html": [
       "<div>\n",
       "<style scoped>\n",
       "    .dataframe tbody tr th:only-of-type {\n",
       "        vertical-align: middle;\n",
       "    }\n",
       "\n",
       "    .dataframe tbody tr th {\n",
       "        vertical-align: top;\n",
       "    }\n",
       "\n",
       "    .dataframe thead th {\n",
       "        text-align: right;\n",
       "    }\n",
       "</style>\n",
       "<table border=\"1\" class=\"dataframe\">\n",
       "  <thead>\n",
       "    <tr style=\"text-align: right;\">\n",
       "      <th></th>\n",
       "      <th>workclass</th>\n",
       "      <th>marital-status</th>\n",
       "      <th>occupation</th>\n",
       "      <th>relationship</th>\n",
       "      <th>race</th>\n",
       "      <th>native-country</th>\n",
       "      <th>age</th>\n",
       "      <th>educational-num</th>\n",
       "      <th>gender</th>\n",
       "      <th>capital-gain</th>\n",
       "      <th>capital-loss</th>\n",
       "      <th>hours-per-week</th>\n",
       "      <th>target_50k</th>\n",
       "    </tr>\n",
       "  </thead>\n",
       "  <tbody>\n",
       "    <tr>\n",
       "      <th>0</th>\n",
       "      <td>0.217874</td>\n",
       "      <td>0.446123</td>\n",
       "      <td>0.116190</td>\n",
       "      <td>0.448661</td>\n",
       "      <td>0.253987</td>\n",
       "      <td>0.243982</td>\n",
       "      <td>-0.046962</td>\n",
       "      <td>-0.419362</td>\n",
       "      <td>1.0</td>\n",
       "      <td>-0.144805</td>\n",
       "      <td>-0.217129</td>\n",
       "      <td>0.772921</td>\n",
       "      <td>0.0</td>\n",
       "    </tr>\n",
       "    <tr>\n",
       "      <th>1</th>\n",
       "      <td>0.295582</td>\n",
       "      <td>0.446123</td>\n",
       "      <td>0.313251</td>\n",
       "      <td>0.448661</td>\n",
       "      <td>0.253987</td>\n",
       "      <td>0.243982</td>\n",
       "      <td>-0.776337</td>\n",
       "      <td>0.747529</td>\n",
       "      <td>1.0</td>\n",
       "      <td>-0.144805</td>\n",
       "      <td>-0.217129</td>\n",
       "      <td>-0.034087</td>\n",
       "      <td>1.0</td>\n",
       "    </tr>\n",
       "    <tr>\n",
       "      <th>2</th>\n",
       "      <td>0.217874</td>\n",
       "      <td>0.446123</td>\n",
       "      <td>0.123176</td>\n",
       "      <td>0.448661</td>\n",
       "      <td>0.120862</td>\n",
       "      <td>0.243982</td>\n",
       "      <td>0.390663</td>\n",
       "      <td>-0.030398</td>\n",
       "      <td>1.0</td>\n",
       "      <td>0.886862</td>\n",
       "      <td>-0.217129</td>\n",
       "      <td>-0.034087</td>\n",
       "      <td>1.0</td>\n",
       "    </tr>\n",
       "    <tr>\n",
       "      <th>3</th>\n",
       "      <td>0.094728</td>\n",
       "      <td>0.045495</td>\n",
       "      <td>0.094391</td>\n",
       "      <td>0.014673</td>\n",
       "      <td>0.253987</td>\n",
       "      <td>0.243982</td>\n",
       "      <td>-1.505712</td>\n",
       "      <td>-0.030398</td>\n",
       "      <td>0.0</td>\n",
       "      <td>-0.144805</td>\n",
       "      <td>-0.217129</td>\n",
       "      <td>-0.841096</td>\n",
       "      <td>0.0</td>\n",
       "    </tr>\n",
       "    <tr>\n",
       "      <th>4</th>\n",
       "      <td>0.217874</td>\n",
       "      <td>0.045495</td>\n",
       "      <td>0.041478</td>\n",
       "      <td>0.101418</td>\n",
       "      <td>0.253987</td>\n",
       "      <td>0.243982</td>\n",
       "      <td>-0.338712</td>\n",
       "      <td>-1.586252</td>\n",
       "      <td>1.0</td>\n",
       "      <td>-0.144805</td>\n",
       "      <td>-0.217129</td>\n",
       "      <td>-0.841096</td>\n",
       "      <td>0.0</td>\n",
       "    </tr>\n",
       "  </tbody>\n",
       "</table>\n",
       "</div>"
      ],
      "text/plain": [
       "   workclass  marital-status  ...  hours-per-week  target_50k\n",
       "0   0.217874        0.446123  ...        0.772921         0.0\n",
       "1   0.295582        0.446123  ...       -0.034087         1.0\n",
       "2   0.217874        0.446123  ...       -0.034087         1.0\n",
       "3   0.094728        0.045495  ...       -0.841096         0.0\n",
       "4   0.217874        0.045495  ...       -0.841096         0.0\n",
       "\n",
       "[5 rows x 13 columns]"
      ]
     },
     "execution_count": 35,
     "metadata": {},
     "output_type": "execute_result"
    }
   ],
   "source": [
    "data.head()"
   ]
  },
  {
   "cell_type": "code",
   "execution_count": 36,
   "metadata": {
    "colab": {
     "base_uri": "https://localhost:8080/",
     "height": 733
    },
    "id": "c8KmGjeKnppL",
    "outputId": "27f35003-4762-4ee1-9921-1abc9a150e5c"
   },
   "outputs": [
    {
     "data": {
      "text/plain": [
       "<function matplotlib.pyplot.show>"
      ]
     },
     "execution_count": 36,
     "metadata": {},
     "output_type": "execute_result"
    },
    {
     "data": {
      "image/png": "[encoded data removed]",
      "text/plain": [
       "<Figure size 864x864 with 12 Axes>"
      ]
     },
     "metadata": {
      "needs_background": "light"
     },
     "output_type": "display_data"
    }
   ],
   "source": [
    "plt.figure(figsize=(12,12))\n",
    "plt.subplots_adjust(wspace=0.5, hspace=0.5)\n",
    "plt.subplot(4, 3, 1)\n",
    "plt.title('workclass')\n",
    "plt.hist(data['workclass'])\n",
    "plt.subplot(4, 3, 2)\n",
    "plt.title('marital-status')\n",
    "plt.hist(data['marital-status'])\n",
    "plt.subplot(4, 3, 3)\n",
    "plt.title('occupation')\n",
    "plt.hist(data['occupation'])\n",
    "plt.subplot(4, 3, 4)\n",
    "plt.title('relationship')\n",
    "plt.hist(data['relationship'])\n",
    "plt.subplot(4, 3, 5)\n",
    "plt.title('race')\n",
    "plt.hist(data['race'])\n",
    "plt.subplot(4, 3, 6)\n",
    "plt.title('native-country')\n",
    "plt.hist(data['native-country'])\n",
    "plt.subplot(4, 3, 7)\n",
    "plt.title('age')\n",
    "plt.hist(data['age'])\n",
    "plt.subplot(4, 3, 8)\n",
    "plt.title('educational-num')\n",
    "plt.hist(data['educational-num'])\n",
    "plt.subplot(4, 3, 9)\n",
    "plt.title('gender')\n",
    "plt.hist(data['gender'])\n",
    "plt.subplot(4, 3, 10)\n",
    "plt.title('capital-gain')\n",
    "plt.hist(data['capital-gain'])\n",
    "plt.subplot(4, 3, 11)\n",
    "plt.title('capital-loss')\n",
    "plt.hist(data['capital-loss'])\n",
    "plt.subplot(4, 3, 12)\n",
    "plt.title('hours-per-week')\n",
    "plt.hist(data['hours-per-week'])\n",
    "\n",
    "plt.show"
   ]
  },
  {
   "cell_type": "code",
   "execution_count": 37,
   "metadata": {
    "colab": {
     "base_uri": "https://localhost:8080/",
     "height": 453
    },
    "id": "aBBCrANunppL",
    "outputId": "e017988b-eab3-4a7b-e148-270c497b7b86"
   },
   "outputs": [
    {
     "data": {
      "image/png": "[encoded data removed]",
      "text/plain": [
       "<Figure size 576x432 with 2 Axes>"
      ]
     },
     "metadata": {
      "needs_background": "light"
     },
     "output_type": "display_data"
    }
   ],
   "source": [
    "plt.figure(figsize=(8, 6))\n",
    "sns.heatmap(data.corr(), cmap= 'coolwarm', linewidths=1, fmt='.1f', annot=True, linecolor='black', square=True, annot_kws={'size':8})\n",
    "plt.show()"
   ]
  },
  {
   "cell_type": "code",
   "execution_count": 38,
   "metadata": {
    "colab": {
     "base_uri": "https://localhost:8080/",
     "height": 356
    },
    "id": "FaBv_pgBnppL",
    "outputId": "e619aeb2-72b9-47c4-ab72-e054609f59b7"
   },
   "outputs": [
    {
     "data": {
      "image/png": "[encoded data removed]",
      "text/plain": [
       "<Figure size 432x288 with 1 Axes>"
      ]
     },
     "metadata": {
      "needs_background": "light"
     },
     "output_type": "display_data"
    }
   ],
   "source": [
    "corrmat = data.loc[:].corrwith(\n",
    "    data['target_50k']).abs().sort_values(ascending=False)[1:]\n",
    "plt.bar(corrmat.index, corrmat.values)\n",
    "plt.title('Correlation to Price')\n",
    "plt.xticks(rotation='vertical')\n",
    "plt.show()"
   ]
  },
  {
   "cell_type": "code",
   "execution_count": 38,
   "metadata": {
    "id": "6vBJWb28nppL"
   },
   "outputs": [],
   "source": []
  },
  {
   "cell_type": "markdown",
   "metadata": {
    "id": "63EE-TyLnppL"
   },
   "source": [
    "## 5. Моделирование<a class='anchor' id='models'>"
   ]
  },
  {
   "cell_type": "code",
   "execution_count": 39,
   "metadata": {
    "id": "_vDAZ9S7nppL"
   },
   "outputs": [],
   "source": [
    "results_all = {}"
   ]
  },
  {
   "cell_type": "code",
   "execution_count": 40,
   "metadata": {
    "id": "iOB2r0jWnppM"
   },
   "outputs": [],
   "source": [
    "features = list(data)[:12]\n",
    "target = list(data)[12]"
   ]
  },
  {
   "cell_type": "code",
   "execution_count": 41,
   "metadata": {
    "id": "NYe5__0FnppM"
   },
   "outputs": [],
   "source": [
    "X = data[features]\n",
    "y = data[target]\n",
    "\n",
    "X_train, X_test, y_train, y_test = train_test_split(X, y, test_size=0.33, shuffle=True, random_state=42)"
   ]
  },
  {
   "cell_type": "code",
   "execution_count": 42,
   "metadata": {
    "id": "m3-yTsF5nppM"
   },
   "outputs": [],
   "source": [
    "log_regr = LogisticRegression(random_state = 42)\n",
    "adaboost = AdaBoostClassifier(n_estimators=100)\n",
    "gboost = GradientBoostingClassifier(n_estimators=100)\n",
    "rand_forrest = RandomForestClassifier(n_estimators=25)\n",
    "d_tree = DecisionTreeClassifier(max_depth=5)\n",
    "mlp_class = MLPClassifier(solver='lbfgs', alpha=1e-5, hidden_layer_sizes=(5, 2), random_state=1)"
   ]
  },
  {
   "cell_type": "code",
   "execution_count": 43,
   "metadata": {
    "colab": {
     "base_uri": "https://localhost:8080/"
    },
    "id": "T08iJN3QnppM",
    "outputId": "14ac6f32-9281-4457-c64b-a8177739e565"
   },
   "outputs": [
    {
     "name": "stderr",
     "output_type": "stream",
     "text": [
      "/usr/local/lib/python3.7/dist-packages/sklearn/neural_network/_multilayer_perceptron.py:549: ConvergenceWarning: lbfgs failed to converge (status=1):\n",
      "STOP: TOTAL NO. of ITERATIONS REACHED LIMIT.\n",
      "\n",
      "Increase the number of iterations (max_iter) or scale the data as shown in:\n",
      "    https://scikit-learn.org/stable/modules/preprocessing.html\n",
      "  self.n_iter_ = _check_optimize_result(\"lbfgs\", opt_res, self.max_iter)\n"
     ]
    }
   ],
   "source": [
    "mlp_class.fit(X_train, y_train)\n",
    "preds_mlp_class = mlp_class.predict_proba(X_test)[:, 1]\n",
    "\n",
    "precision, recall, thresholds = precision_recall_curve(y_test, preds_mlp_class)\n",
    "fscore = (2 * precision * recall) / (precision + recall)\n",
    "\n",
    "ix = np.argmax(fscore)\n",
    "\n",
    "results_all['mlp_class'] = [thresholds[ix], fscore[ix], precision[ix], recall[ix], \n",
    "                           roc_auc_score(y_test, preds_mlp_class), r2(y_test, preds_mlp_class)]"
   ]
  },
  {
   "cell_type": "code",
   "execution_count": 44,
   "metadata": {
    "id": "Y7z4gsdUnppM"
   },
   "outputs": [],
   "source": [
    "log_regr.fit(X_train, y_train)\n",
    "\n",
    "preds_log_regr = log_regr.predict_proba(X_test)[:, 1]\n",
    "\n",
    "precision, recall, thresholds = precision_recall_curve(y_test, preds_log_regr)\n",
    "fscore = (2 * precision * recall) / (precision + recall)\n",
    "\n",
    "ix = np.argmax(fscore)\n",
    "\n",
    "results_all['log_regr'] = [thresholds[ix], fscore[ix], precision[ix], recall[ix], \n",
    "                           roc_auc_score(y_test, preds_log_regr), r2(y_test, preds_log_regr)]"
   ]
  },
  {
   "cell_type": "code",
   "execution_count": 45,
   "metadata": {
    "id": "0ptmBggjnppM"
   },
   "outputs": [],
   "source": [
    "adaboost.fit(X_train, y_train)\n",
    "\n",
    "preds_adaboost = adaboost.predict_proba(X_test)[:, 1]\n",
    "\n",
    "precision, recall, thresholds = precision_recall_curve(y_test, preds_adaboost)\n",
    "fscore = (2 * precision * recall) / (precision + recall)\n",
    "\n",
    "ix = np.argmax(fscore)\n",
    "\n",
    "results_all['adaboost'] = [thresholds[ix], fscore[ix], precision[ix], recall[ix], \n",
    "                           roc_auc_score(y_test, preds_adaboost), r2(y_test, preds_log_regr)]"
   ]
  },
  {
   "cell_type": "code",
   "execution_count": 46,
   "metadata": {
    "id": "4Dh0bdHYnppM"
   },
   "outputs": [],
   "source": [
    "gboost.fit(X_train, y_train)\n",
    "\n",
    "preds_gboost = gboost.predict_proba(X_test)[:, 1]\n",
    "\n",
    "precision, recall, thresholds = precision_recall_curve(y_test, preds_gboost)\n",
    "fscore = (2 * precision * recall) / (precision + recall)\n",
    "\n",
    "ix = np.argmax(fscore)\n",
    "\n",
    "results_all['gboost'] = [thresholds[ix], fscore[ix], precision[ix], recall[ix], \n",
    "                         roc_auc_score(y_test, preds_gboost), r2(y_test, preds_log_regr)]"
   ]
  },
  {
   "cell_type": "code",
   "execution_count": 47,
   "metadata": {
    "id": "AB1hHgo-nppM"
   },
   "outputs": [],
   "source": [
    "rand_forrest.fit(X_train, y_train)\n",
    "\n",
    "preds_rand_forrest = rand_forrest.predict_proba(X_test)[:, 1]\n",
    "\n",
    "precision, recall, thresholds = precision_recall_curve(y_test, preds_rand_forrest)\n",
    "fscore = (2 * precision * recall) / (precision + recall)\n",
    "\n",
    "ix = np.argmax(fscore)\n",
    "\n",
    "results_all['rand_forrest'] = [thresholds[ix], fscore[ix], precision[ix], recall[ix], \n",
    "                               roc_auc_score(y_test, preds_rand_forrest), r2(y_test, preds_log_regr)]"
   ]
  },
  {
   "cell_type": "code",
   "execution_count": 48,
   "metadata": {
    "id": "XWkG59bYnppN"
   },
   "outputs": [],
   "source": [
    "d_tree.fit(X_train, y_train)\n",
    "\n",
    "preds_d_tree = rand_forrest.predict_proba(X_test)[:, 1]\n",
    "\n",
    "precision, recall, thresholds = precision_recall_curve(y_test, preds_d_tree)\n",
    "fscore = (2 * precision * recall) / (precision + recall)\n",
    "\n",
    "ix = np.argmax(fscore)\n",
    "\n",
    "results_all['d_tree'] = [thresholds[ix], fscore[ix], precision[ix], recall[ix], \n",
    "                         roc_auc_score(y_test, preds_d_tree), r2(y_test, preds_log_regr)]"
   ]
  },
  {
   "cell_type": "code",
   "execution_count": 48,
   "metadata": {
    "id": "Xv0U20_4nppN"
   },
   "outputs": [],
   "source": []
  },
  {
   "cell_type": "code",
   "execution_count": 49,
   "metadata": {
    "id": "qGcswHQlnppN"
   },
   "outputs": [],
   "source": [
    "def results(data_res):\n",
    "    df = pd.DataFrame(data_res).T\n",
    "    df.columns=['Best Threshold', 'F-Score', 'Precision', 'Recall', 'roc_auc_score', 'R_2']\n",
    "    return df"
   ]
  },
  {
   "cell_type": "code",
   "execution_count": 50,
   "metadata": {
    "colab": {
     "base_uri": "https://localhost:8080/",
     "height": 237
    },
    "id": "rOaNOtefnppN",
    "outputId": "1d3a8da1-b3d9-4bc4-82e4-e1a4f85931e8",
    "scrolled": true
   },
   "outputs": [
    {
     "data": {
      "text/html": [
       "<div>\n",
       "<style scoped>\n",
       "    .dataframe tbody tr th:only-of-type {\n",
       "        vertical-align: middle;\n",
       "    }\n",
       "\n",
       "    .dataframe tbody tr th {\n",
       "        vertical-align: top;\n",
       "    }\n",
       "\n",
       "    .dataframe thead th {\n",
       "        text-align: right;\n",
       "    }\n",
       "</style>\n",
       "<table border=\"1\" class=\"dataframe\">\n",
       "  <thead>\n",
       "    <tr style=\"text-align: right;\">\n",
       "      <th></th>\n",
       "      <th>Best Threshold</th>\n",
       "      <th>F-Score</th>\n",
       "      <th>Precision</th>\n",
       "      <th>Recall</th>\n",
       "      <th>roc_auc_score</th>\n",
       "      <th>R_2</th>\n",
       "    </tr>\n",
       "  </thead>\n",
       "  <tbody>\n",
       "    <tr>\n",
       "      <th>mlp_class</th>\n",
       "      <td>0.340570</td>\n",
       "      <td>0.687507</td>\n",
       "      <td>0.617665</td>\n",
       "      <td>0.775157</td>\n",
       "      <td>0.906324</td>\n",
       "      <td>0.435559</td>\n",
       "    </tr>\n",
       "    <tr>\n",
       "      <th>log_regr</th>\n",
       "      <td>0.306048</td>\n",
       "      <td>0.674246</td>\n",
       "      <td>0.604913</td>\n",
       "      <td>0.761530</td>\n",
       "      <td>0.899577</td>\n",
       "      <td>0.414067</td>\n",
       "    </tr>\n",
       "    <tr>\n",
       "      <th>adaboost</th>\n",
       "      <td>0.498318</td>\n",
       "      <td>0.706998</td>\n",
       "      <td>0.652270</td>\n",
       "      <td>0.771751</td>\n",
       "      <td>0.917647</td>\n",
       "      <td>0.414067</td>\n",
       "    </tr>\n",
       "    <tr>\n",
       "      <th>gboost</th>\n",
       "      <td>0.377413</td>\n",
       "      <td>0.714066</td>\n",
       "      <td>0.698496</td>\n",
       "      <td>0.730346</td>\n",
       "      <td>0.920554</td>\n",
       "      <td>0.414067</td>\n",
       "    </tr>\n",
       "    <tr>\n",
       "      <th>rand_forrest</th>\n",
       "      <td>0.382667</td>\n",
       "      <td>0.678806</td>\n",
       "      <td>0.643646</td>\n",
       "      <td>0.718029</td>\n",
       "      <td>0.890522</td>\n",
       "      <td>0.414067</td>\n",
       "    </tr>\n",
       "    <tr>\n",
       "      <th>d_tree</th>\n",
       "      <td>0.382667</td>\n",
       "      <td>0.678806</td>\n",
       "      <td>0.643646</td>\n",
       "      <td>0.718029</td>\n",
       "      <td>0.890522</td>\n",
       "      <td>0.414067</td>\n",
       "    </tr>\n",
       "  </tbody>\n",
       "</table>\n",
       "</div>"
      ],
      "text/plain": [
       "              Best Threshold   F-Score  ...  roc_auc_score       R_2\n",
       "mlp_class           0.340570  0.687507  ...       0.906324  0.435559\n",
       "log_regr            0.306048  0.674246  ...       0.899577  0.414067\n",
       "adaboost            0.498318  0.706998  ...       0.917647  0.414067\n",
       "gboost              0.377413  0.714066  ...       0.920554  0.414067\n",
       "rand_forrest        0.382667  0.678806  ...       0.890522  0.414067\n",
       "d_tree              0.382667  0.678806  ...       0.890522  0.414067\n",
       "\n",
       "[6 rows x 6 columns]"
      ]
     },
     "execution_count": 50,
     "metadata": {},
     "output_type": "execute_result"
    }
   ],
   "source": [
    "results(results_all)"
   ]
  },
  {
   "cell_type": "markdown",
   "metadata": {
    "id": "EQHWefhKnppN"
   },
   "source": [
    "**Вывод**\n",
    "\n",
    "Выбираем gboost"
   ]
  },
  {
   "cell_type": "code",
   "execution_count": 50,
   "metadata": {
    "id": "LS2r44X7nppN"
   },
   "outputs": [],
   "source": []
  },
  {
   "cell_type": "markdown",
   "metadata": {
    "id": "v_r1RXw7nppN"
   },
   "source": [
    "## 6. Pipeline<a class='anchor' id='pipeline'>"
   ]
  },
  {
   "cell_type": "code",
   "execution_count": 64,
   "metadata": {
    "id": "xHo7aSCApHtn"
   },
   "outputs": [],
   "source": []
  },
  {
   "cell_type": "code",
   "execution_count": 52,
   "metadata": {
    "id": "L637ouNGnppN"
   },
   "outputs": [],
   "source": [
    "#загружаем наш исходник\n",
    "data = '/home/Dataset.data'\n",
    "df = pd.read_csv(data, sep=' ')"
   ]
  },
  {
   "cell_type": "code",
   "execution_count": 53,
   "metadata": {
    "id": "WlBx_OHunppO"
   },
   "outputs": [],
   "source": [
    "#сразу делаем валидационную выборку с исходника, которую будем потом проверять по пайплайну\n",
    "df_valid = df.sample(frac=0.65)\n",
    "\n",
    "df_valid_x = df_valid.iloc[:,:-1]\n",
    "df_valid_y = df_valid.iloc[:,-1]\n",
    "\n",
    "df_valid_x.to_csv('df_valid_x.csv', index=None)\n",
    "df_valid_y.to_csv('df_valid_y.csv', index=None)"
   ]
  },
  {
   "cell_type": "code",
   "execution_count": 54,
   "metadata": {
    "colab": {
     "base_uri": "https://localhost:8080/",
     "height": 206
    },
    "id": "zC3XPRdVnppO",
    "outputId": "d860609a-a25b-4bc1-f6ca-457d97206430"
   },
   "outputs": [
    {
     "data": {
      "text/html": [
       "<div>\n",
       "<style scoped>\n",
       "    .dataframe tbody tr th:only-of-type {\n",
       "        vertical-align: middle;\n",
       "    }\n",
       "\n",
       "    .dataframe tbody tr th {\n",
       "        vertical-align: top;\n",
       "    }\n",
       "\n",
       "    .dataframe thead th {\n",
       "        text-align: right;\n",
       "    }\n",
       "</style>\n",
       "<table border=\"1\" class=\"dataframe\">\n",
       "  <thead>\n",
       "    <tr style=\"text-align: right;\">\n",
       "      <th></th>\n",
       "      <th>25</th>\n",
       "      <th>Private</th>\n",
       "      <th>226802</th>\n",
       "      <th>11th</th>\n",
       "      <th>7</th>\n",
       "      <th>Never-married</th>\n",
       "      <th>Machine-op-inspct</th>\n",
       "      <th>Own-child</th>\n",
       "      <th>Black</th>\n",
       "      <th>Male</th>\n",
       "      <th>0</th>\n",
       "      <th>0.1</th>\n",
       "      <th>40</th>\n",
       "      <th>United-States</th>\n",
       "      <th>&lt;=50K</th>\n",
       "    </tr>\n",
       "  </thead>\n",
       "  <tbody>\n",
       "    <tr>\n",
       "      <th>37802</th>\n",
       "      <td>35</td>\n",
       "      <td>Private</td>\n",
       "      <td>194809</td>\n",
       "      <td>11th</td>\n",
       "      <td>7</td>\n",
       "      <td>Divorced</td>\n",
       "      <td>Machine-op-inspct</td>\n",
       "      <td>Unmarried</td>\n",
       "      <td>White</td>\n",
       "      <td>Female</td>\n",
       "      <td>0</td>\n",
       "      <td>0</td>\n",
       "      <td>40</td>\n",
       "      <td>United-States</td>\n",
       "      <td>&lt;=50K</td>\n",
       "    </tr>\n",
       "    <tr>\n",
       "      <th>35429</th>\n",
       "      <td>22</td>\n",
       "      <td>Private</td>\n",
       "      <td>138513</td>\n",
       "      <td>Some-college</td>\n",
       "      <td>10</td>\n",
       "      <td>Never-married</td>\n",
       "      <td>Craft-repair</td>\n",
       "      <td>Own-child</td>\n",
       "      <td>White</td>\n",
       "      <td>Male</td>\n",
       "      <td>0</td>\n",
       "      <td>0</td>\n",
       "      <td>40</td>\n",
       "      <td>United-States</td>\n",
       "      <td>&lt;=50K</td>\n",
       "    </tr>\n",
       "    <tr>\n",
       "      <th>35894</th>\n",
       "      <td>46</td>\n",
       "      <td>Private</td>\n",
       "      <td>194431</td>\n",
       "      <td>HS-grad</td>\n",
       "      <td>9</td>\n",
       "      <td>Never-married</td>\n",
       "      <td>Tech-support</td>\n",
       "      <td>Other-relative</td>\n",
       "      <td>White</td>\n",
       "      <td>Male</td>\n",
       "      <td>0</td>\n",
       "      <td>0</td>\n",
       "      <td>40</td>\n",
       "      <td>United-States</td>\n",
       "      <td>&lt;=50K</td>\n",
       "    </tr>\n",
       "    <tr>\n",
       "      <th>106</th>\n",
       "      <td>28</td>\n",
       "      <td>Private</td>\n",
       "      <td>154236</td>\n",
       "      <td>HS-grad</td>\n",
       "      <td>9</td>\n",
       "      <td>Never-married</td>\n",
       "      <td>Transport-moving</td>\n",
       "      <td>Own-child</td>\n",
       "      <td>White</td>\n",
       "      <td>Male</td>\n",
       "      <td>2597</td>\n",
       "      <td>0</td>\n",
       "      <td>40</td>\n",
       "      <td>United-States</td>\n",
       "      <td>&lt;=50K</td>\n",
       "    </tr>\n",
       "    <tr>\n",
       "      <th>32090</th>\n",
       "      <td>39</td>\n",
       "      <td>Private</td>\n",
       "      <td>236391</td>\n",
       "      <td>HS-grad</td>\n",
       "      <td>9</td>\n",
       "      <td>Married-civ-spouse</td>\n",
       "      <td>Craft-repair</td>\n",
       "      <td>Husband</td>\n",
       "      <td>White</td>\n",
       "      <td>Male</td>\n",
       "      <td>0</td>\n",
       "      <td>0</td>\n",
       "      <td>45</td>\n",
       "      <td>United-States</td>\n",
       "      <td>&lt;=50K</td>\n",
       "    </tr>\n",
       "  </tbody>\n",
       "</table>\n",
       "</div>"
      ],
      "text/plain": [
       "       25  Private  226802          11th  ...  0.1  40  United-States  <=50K\n",
       "37802  35  Private  194809          11th  ...    0  40  United-States  <=50K\n",
       "35429  22  Private  138513  Some-college  ...    0  40  United-States  <=50K\n",
       "35894  46  Private  194431       HS-grad  ...    0  40  United-States  <=50K\n",
       "106    28  Private  154236       HS-grad  ...    0  40  United-States  <=50K\n",
       "32090  39  Private  236391       HS-grad  ...    0  45  United-States  <=50K\n",
       "\n",
       "[5 rows x 15 columns]"
      ]
     },
     "execution_count": 54,
     "metadata": {},
     "output_type": "execute_result"
    }
   ],
   "source": [
    "df_valid.head()"
   ]
  },
  {
   "cell_type": "code",
   "execution_count": 55,
   "metadata": {
    "id": "GPFvbSCVnppO"
   },
   "outputs": [],
   "source": [
    "#обработка признаков в пайплайне \n",
    "\n",
    "class DFProcessing(TransformerMixin, BaseEstimator):\n",
    "    def __init__(self):\n",
    "        pass\n",
    "\n",
    "    def fit(self, X, y=None):\n",
    "        return self\n",
    "\n",
    "    def transform(self, X):\n",
    "        X.columns=[\"age\", \"workclass\", \"fnlwgt\", \"education\", \"educational-num\", \"marital-status\", \"occupation\", \"relationship\", \n",
    "            \"race\", \"gender\", \"capital-gain\", \"capital-loss\", \"hours-per-week\", \"native-country\"]\n",
    "\n",
    "        # пол\n",
    "        X.loc[(X['gender'] == 'Male'), 'gender'] = 1\n",
    "        X.loc[(X['gender'] == 'Female'), 'gender'] = 0\n",
    "        X['gender'] = X['gender'].astype(np.float32)\n",
    "        \n",
    "        # text\n",
    "        X_cbe = cbe_encoder.transform(X[[\"workclass\", \"marital-status\", \"occupation\", \"relationship\", \"race\", \"native-country\"]])\n",
    "        \n",
    "        # data_itog\n",
    "        X_data = X_cbe.join(X[[\"age\", \"educational-num\", \"gender\", \"capital-gain\", \n",
    "                     \"capital-loss\", \"hours-per-week\"]])\n",
    "        \n",
    "        X_data[['age', 'educational-num', 'capital-gain', 'capital-loss', 'hours-per-week']] = scaler.fit_transform(X_data[['age', 'educational-num', 'capital-gain', 'capital-loss', 'hours-per-week']])\n",
    "        \n",
    "        return X_data\n"
   ]
  },
  {
   "cell_type": "code",
   "execution_count": 55,
   "metadata": {
    "id": "vCGYOlRBnppO"
   },
   "outputs": [],
   "source": []
  },
  {
   "cell_type": "code",
   "execution_count": 56,
   "metadata": {
    "id": "rlgsv4pHnppO"
   },
   "outputs": [],
   "source": [
    "steps = [('transformfeatures', DFProcessing()), ('gboost', gboost)]\n",
    "pipeline = Pipeline(steps)"
   ]
  },
  {
   "cell_type": "code",
   "execution_count": 57,
   "metadata": {
    "id": "OkCjdLrhnppO"
   },
   "outputs": [],
   "source": [
    "predictions = pipeline.predict_proba(df_valid_x)\n",
    "pd.DataFrame({'preds': predictions[:, 1]}).to_csv(\"test_predictions.csv\", index=None)"
   ]
  },
  {
   "cell_type": "code",
   "execution_count": 58,
   "metadata": {
    "id": "ySYjRfLDnppO"
   },
   "outputs": [],
   "source": [
    "#проверка трансормации пайплайна\n",
    "data_check = pipeline[0].transform(df_valid_x)"
   ]
  },
  {
   "cell_type": "code",
   "execution_count": 59,
   "metadata": {
    "colab": {
     "base_uri": "https://localhost:8080/",
     "height": 223
    },
    "id": "x3WS4MZHnppP",
    "outputId": "bc188312-64e2-4d1c-8e1c-30650dcd0ad8"
   },
   "outputs": [
    {
     "data": {
      "text/html": [
       "<div>\n",
       "<style scoped>\n",
       "    .dataframe tbody tr th:only-of-type {\n",
       "        vertical-align: middle;\n",
       "    }\n",
       "\n",
       "    .dataframe tbody tr th {\n",
       "        vertical-align: top;\n",
       "    }\n",
       "\n",
       "    .dataframe thead th {\n",
       "        text-align: right;\n",
       "    }\n",
       "</style>\n",
       "<table border=\"1\" class=\"dataframe\">\n",
       "  <thead>\n",
       "    <tr style=\"text-align: right;\">\n",
       "      <th></th>\n",
       "      <th>workclass</th>\n",
       "      <th>marital-status</th>\n",
       "      <th>occupation</th>\n",
       "      <th>relationship</th>\n",
       "      <th>race</th>\n",
       "      <th>native-country</th>\n",
       "      <th>age</th>\n",
       "      <th>educational-num</th>\n",
       "      <th>gender</th>\n",
       "      <th>capital-gain</th>\n",
       "      <th>capital-loss</th>\n",
       "      <th>hours-per-week</th>\n",
       "    </tr>\n",
       "  </thead>\n",
       "  <tbody>\n",
       "    <tr>\n",
       "      <th>37802</th>\n",
       "      <td>0.217874</td>\n",
       "      <td>0.101182</td>\n",
       "      <td>0.123176</td>\n",
       "      <td>0.060328</td>\n",
       "      <td>0.253987</td>\n",
       "      <td>0.243982</td>\n",
       "      <td>-0.268162</td>\n",
       "      <td>-1.194337</td>\n",
       "      <td>0.0</td>\n",
       "      <td>-0.145632</td>\n",
       "      <td>-0.2139</td>\n",
       "      <td>-0.037106</td>\n",
       "    </tr>\n",
       "    <tr>\n",
       "      <th>35429</th>\n",
       "      <td>0.217874</td>\n",
       "      <td>0.045495</td>\n",
       "      <td>0.226278</td>\n",
       "      <td>0.014673</td>\n",
       "      <td>0.253987</td>\n",
       "      <td>0.243982</td>\n",
       "      <td>-1.213241</td>\n",
       "      <td>-0.029011</td>\n",
       "      <td>1.0</td>\n",
       "      <td>-0.145632</td>\n",
       "      <td>-0.2139</td>\n",
       "      <td>-0.037106</td>\n",
       "    </tr>\n",
       "    <tr>\n",
       "      <th>35894</th>\n",
       "      <td>0.217874</td>\n",
       "      <td>0.045495</td>\n",
       "      <td>0.290421</td>\n",
       "      <td>0.034664</td>\n",
       "      <td>0.253987</td>\n",
       "      <td>0.243982</td>\n",
       "      <td>0.531520</td>\n",
       "      <td>-0.417453</td>\n",
       "      <td>1.0</td>\n",
       "      <td>-0.145632</td>\n",
       "      <td>-0.2139</td>\n",
       "      <td>-0.037106</td>\n",
       "    </tr>\n",
       "    <tr>\n",
       "      <th>106</th>\n",
       "      <td>0.217874</td>\n",
       "      <td>0.045495</td>\n",
       "      <td>0.204261</td>\n",
       "      <td>0.014673</td>\n",
       "      <td>0.253987</td>\n",
       "      <td>0.243982</td>\n",
       "      <td>-0.777051</td>\n",
       "      <td>-0.417453</td>\n",
       "      <td>1.0</td>\n",
       "      <td>0.204346</td>\n",
       "      <td>-0.2139</td>\n",
       "      <td>-0.037106</td>\n",
       "    </tr>\n",
       "    <tr>\n",
       "      <th>32090</th>\n",
       "      <td>0.217874</td>\n",
       "      <td>0.446123</td>\n",
       "      <td>0.226278</td>\n",
       "      <td>0.448661</td>\n",
       "      <td>0.253987</td>\n",
       "      <td>0.243982</td>\n",
       "      <td>0.022631</td>\n",
       "      <td>-0.417453</td>\n",
       "      <td>1.0</td>\n",
       "      <td>-0.145632</td>\n",
       "      <td>-0.2139</td>\n",
       "      <td>0.366402</td>\n",
       "    </tr>\n",
       "  </tbody>\n",
       "</table>\n",
       "</div>"
      ],
      "text/plain": [
       "       workclass  marital-status  ...  capital-loss  hours-per-week\n",
       "37802   0.217874        0.101182  ...       -0.2139       -0.037106\n",
       "35429   0.217874        0.045495  ...       -0.2139       -0.037106\n",
       "35894   0.217874        0.045495  ...       -0.2139       -0.037106\n",
       "106     0.217874        0.045495  ...       -0.2139       -0.037106\n",
       "32090   0.217874        0.446123  ...       -0.2139        0.366402\n",
       "\n",
       "[5 rows x 12 columns]"
      ]
     },
     "execution_count": 59,
     "metadata": {},
     "output_type": "execute_result"
    }
   ],
   "source": [
    "data_check.head()"
   ]
  },
  {
   "cell_type": "code",
   "execution_count": 59,
   "metadata": {
    "id": "pWaBSsjvnppP"
   },
   "outputs": [],
   "source": []
  },
  {
   "cell_type": "code",
   "execution_count": 60,
   "metadata": {
    "colab": {
     "base_uri": "https://localhost:8080/"
    },
    "id": "KTKy5SMFnppP",
    "outputId": "f0a62dc6-01bc-4b31-9fba-959d2d9e67a0"
   },
   "outputs": [
    {
     "data": {
      "text/plain": [
       "0.9214500456561487"
      ]
     },
     "execution_count": 60,
     "metadata": {},
     "output_type": "execute_result"
    }
   ],
   "source": [
    "roc_auc_score(y_score=predictions[:, 1][:], y_true=df_valid_y)"
   ]
  },
  {
   "cell_type": "code",
   "execution_count": 61,
   "metadata": {
    "id": "OiyVU3_bnppP"
   },
   "outputs": [],
   "source": [
    "with open(\"gboost_pipeline.dill\", \"wb\") as f:\n",
    "    dill.dump(pipeline, f)"
   ]
  },
  {
   "cell_type": "code",
   "execution_count": 61,
   "metadata": {
    "id": "9uFtQWT9nppP"
   },
   "outputs": [],
   "source": []
  },
  {
   "cell_type": "markdown",
   "metadata": {
    "id": "QP4FAHcPnppP"
   },
   "source": [
    "## 7. Проверка Pipeline<a class='anchor' id='check'>"
   ]
  },
  {
   "cell_type": "code",
   "execution_count": 62,
   "metadata": {
    "id": "LNWFMXBUnppP"
   },
   "outputs": [],
   "source": [
    "with open('gboost_pipeline.dill', 'rb') as in_strm:\n",
    "    pipeline = dill.load(in_strm)"
   ]
  },
  {
   "cell_type": "code",
   "execution_count": 65,
   "metadata": {
    "id": "h0qsBpvVnppP"
   },
   "outputs": [],
   "source": [
    "data = '/home/Dataset.data'\n",
    "df = pd.read_csv(data, sep=' ')\n",
    "\n",
    "df_valid = df.sample(frac=0.5)\n",
    "\n",
    "df_valid_x = df_valid.iloc[:,:-1]\n",
    "df_valid_y = df_valid.iloc[:,-1]"
   ]
  },
  {
   "cell_type": "code",
   "execution_count": 66,
   "metadata": {
    "id": "o0sd7w0JnppQ"
   },
   "outputs": [],
   "source": [
    "predictions = pipeline.predict_proba(df_valid_x)\n",
    "pd.DataFrame({'preds': predictions[:, 1]}).to_csv(\"test_predictions.csv\", index=None)"
   ]
  },
  {
   "cell_type": "code",
   "execution_count": 67,
   "metadata": {
    "colab": {
     "base_uri": "https://localhost:8080/"
    },
    "id": "VwKLHVA3nppQ",
    "outputId": "10e99642-1a7a-4cb4-fe9e-d21dcc3f238a"
   },
   "outputs": [
    {
     "data": {
      "text/plain": [
       "0.9234552611795879"
      ]
     },
     "execution_count": 67,
     "metadata": {},
     "output_type": "execute_result"
    }
   ],
   "source": [
    "roc_auc_score(y_score=predictions[:, 1][:], y_true=df_valid_y)"
   ]
  },
  {
   "cell_type": "code",
   "execution_count": 68,
   "metadata": {
    "colab": {
     "base_uri": "https://localhost:8080/",
     "height": 150
    },
    "id": "qRoKUW_rnppQ",
    "outputId": "2b6027a9-9d8c-4516-b9d1-c346e9e038e5"
   },
   "outputs": [
    {
     "data": {
      "text/html": [
       "<div>\n",
       "<style scoped>\n",
       "    .dataframe tbody tr th:only-of-type {\n",
       "        vertical-align: middle;\n",
       "    }\n",
       "\n",
       "    .dataframe tbody tr th {\n",
       "        vertical-align: top;\n",
       "    }\n",
       "\n",
       "    .dataframe thead th {\n",
       "        text-align: right;\n",
       "    }\n",
       "</style>\n",
       "<table border=\"1\" class=\"dataframe\">\n",
       "  <thead>\n",
       "    <tr style=\"text-align: right;\">\n",
       "      <th></th>\n",
       "      <th>age</th>\n",
       "      <th>workclass</th>\n",
       "      <th>fnlwgt</th>\n",
       "      <th>education</th>\n",
       "      <th>educational-num</th>\n",
       "      <th>marital-status</th>\n",
       "      <th>occupation</th>\n",
       "      <th>relationship</th>\n",
       "      <th>race</th>\n",
       "      <th>gender</th>\n",
       "      <th>capital-gain</th>\n",
       "      <th>capital-loss</th>\n",
       "      <th>hours-per-week</th>\n",
       "      <th>native-country</th>\n",
       "    </tr>\n",
       "  </thead>\n",
       "  <tbody>\n",
       "    <tr>\n",
       "      <th>40482</th>\n",
       "      <td>29</td>\n",
       "      <td>State-gov</td>\n",
       "      <td>67053</td>\n",
       "      <td>HS-grad</td>\n",
       "      <td>9</td>\n",
       "      <td>Never-married</td>\n",
       "      <td>Other-service</td>\n",
       "      <td>Not-in-family</td>\n",
       "      <td>Asian-Pac-Islander</td>\n",
       "      <td>1.0</td>\n",
       "      <td>0</td>\n",
       "      <td>0</td>\n",
       "      <td>40</td>\n",
       "      <td>Thailand</td>\n",
       "    </tr>\n",
       "  </tbody>\n",
       "</table>\n",
       "</div>"
      ],
      "text/plain": [
       "       age  workclass  fnlwgt  ... capital-loss  hours-per-week native-country\n",
       "40482   29  State-gov   67053  ...            0              40       Thailand\n",
       "\n",
       "[1 rows x 14 columns]"
      ]
     },
     "execution_count": 68,
     "metadata": {},
     "output_type": "execute_result"
    }
   ],
   "source": [
    "df_valid_x.head(1)"
   ]
  },
  {
   "cell_type": "code",
   "execution_count": 69,
   "metadata": {
    "colab": {
     "base_uri": "https://localhost:8080/",
     "height": 98
    },
    "id": "46Lw7pREnppQ",
    "outputId": "e13522e9-3168-4d5b-b980-2b14c6456114"
   },
   "outputs": [
    {
     "data": {
      "text/html": [
       "<div>\n",
       "<style scoped>\n",
       "    .dataframe tbody tr th:only-of-type {\n",
       "        vertical-align: middle;\n",
       "    }\n",
       "\n",
       "    .dataframe tbody tr th {\n",
       "        vertical-align: top;\n",
       "    }\n",
       "\n",
       "    .dataframe thead th {\n",
       "        text-align: right;\n",
       "    }\n",
       "</style>\n",
       "<table border=\"1\" class=\"dataframe\">\n",
       "  <thead>\n",
       "    <tr style=\"text-align: right;\">\n",
       "      <th></th>\n",
       "      <th>workclass</th>\n",
       "      <th>marital-status</th>\n",
       "      <th>occupation</th>\n",
       "      <th>relationship</th>\n",
       "      <th>race</th>\n",
       "      <th>native-country</th>\n",
       "      <th>age</th>\n",
       "      <th>educational-num</th>\n",
       "      <th>gender</th>\n",
       "      <th>capital-gain</th>\n",
       "      <th>capital-loss</th>\n",
       "      <th>hours-per-week</th>\n",
       "    </tr>\n",
       "  </thead>\n",
       "  <tbody>\n",
       "    <tr>\n",
       "      <th>40482</th>\n",
       "      <td>0.267527</td>\n",
       "      <td>0.045495</td>\n",
       "      <td>0.041478</td>\n",
       "      <td>0.101418</td>\n",
       "      <td>0.269236</td>\n",
       "      <td>0.169009</td>\n",
       "      <td>-0.698872</td>\n",
       "      <td>-0.420332</td>\n",
       "      <td>1.0</td>\n",
       "      <td>-0.144609</td>\n",
       "      <td>-0.218342</td>\n",
       "      <td>-0.030876</td>\n",
       "    </tr>\n",
       "  </tbody>\n",
       "</table>\n",
       "</div>"
      ],
      "text/plain": [
       "       workclass  marital-status  ...  capital-loss  hours-per-week\n",
       "40482   0.267527        0.045495  ...     -0.218342       -0.030876\n",
       "\n",
       "[1 rows x 12 columns]"
      ]
     },
     "execution_count": 69,
     "metadata": {},
     "output_type": "execute_result"
    }
   ],
   "source": [
    "pipeline[0].transform(df_valid_x).head(1)"
   ]
  },
  {
   "cell_type": "markdown",
   "metadata": {
    "id": "Y4CjZip6nppQ"
   },
   "source": [
    "## 8. Проверка API Pipeline<a class='anchor' id='apicheck'>"
   ]
  },
  {
   "cell_type": "code",
   "execution_count": 70,
   "metadata": {
    "id": "HDLTj1ycnppQ"
   },
   "outputs": [],
   "source": [
    "import requests\n",
    "\n",
    "import urllib.request\n",
    "import json "
   ]
  },
  {
   "cell_type": "code",
   "execution_count": 71,
   "metadata": {
    "id": "Qm3MmX3-rMqS"
   },
   "outputs": [],
   "source": [
    "from flask_ngrok import run_with_ngrok\n",
    "from flask import Flask, request, jsonify"
   ]
  },
  {
   "cell_type": "code",
   "execution_count": 87,
   "metadata": {
    "id": "dduTZHqSrOq6"
   },
   "outputs": [],
   "source": []
  },
  {
   "cell_type": "code",
   "execution_count": 75,
   "metadata": {
    "id": "JZUrJWBErO_N"
   },
   "outputs": [],
   "source": [
    "import dill\n",
    "dill._dill._reverse_typemap['ClassType'] = type"
   ]
  },
  {
   "cell_type": "code",
   "execution_count": 79,
   "metadata": {
    "id": "zZxCt0v8rPS1"
   },
   "outputs": [],
   "source": [
    "path='/home/'\n",
    "path2='/content/'"
   ]
  },
  {
   "cell_type": "code",
   "execution_count": 78,
   "metadata": {
    "colab": {
     "base_uri": "https://localhost:8080/"
    },
    "id": "S8bgKTSKs-IE",
    "outputId": "20ba1616-7640-436b-c055-4f081105af6d"
   },
   "outputs": [
    {
     "name": "stderr",
     "output_type": "stream",
     "text": [
      "/usr/local/lib/python3.7/dist-packages/sklearn/base.py:333: UserWarning: Trying to unpickle estimator DummyClassifier from version 1.0 when using version 1.0.1. This might lead to breaking code or invalid results. Use at your own risk. For more info please refer to:\n",
      "https://scikit-learn.org/stable/modules/model_persistence.html#security-maintainability-limitations\n",
      "  UserWarning,\n",
      "/usr/local/lib/python3.7/dist-packages/sklearn/base.py:333: UserWarning: Trying to unpickle estimator DecisionTreeRegressor from version 1.0 when using version 1.0.1. This might lead to breaking code or invalid results. Use at your own risk. For more info please refer to:\n",
      "https://scikit-learn.org/stable/modules/model_persistence.html#security-maintainability-limitations\n",
      "  UserWarning,\n",
      "/usr/local/lib/python3.7/dist-packages/sklearn/base.py:333: UserWarning: Trying to unpickle estimator GradientBoostingClassifier from version 1.0 when using version 1.0.1. This might lead to breaking code or invalid results. Use at your own risk. For more info please refer to:\n",
      "https://scikit-learn.org/stable/modules/model_persistence.html#security-maintainability-limitations\n",
      "  UserWarning,\n",
      "/usr/local/lib/python3.7/dist-packages/sklearn/base.py:333: UserWarning: Trying to unpickle estimator Pipeline from version 1.0 when using version 1.0.1. This might lead to breaking code or invalid results. Use at your own risk. For more info please refer to:\n",
      "https://scikit-learn.org/stable/modules/model_persistence.html#security-maintainability-limitations\n",
      "  UserWarning,\n"
     ]
    }
   ],
   "source": [
    "with open(path + 'gboost_pipeline.dill', 'rb') as in_strm:\n",
    "    model = dill.load(in_strm)"
   ]
  },
  {
   "cell_type": "code",
   "execution_count": 80,
   "metadata": {
    "id": "LVxpuJBbs-XQ"
   },
   "outputs": [],
   "source": [
    "X_valid = pd.read_csv(path2+\"df_valid_x.csv\")\n",
    "y_valid = pd.read_csv(path2+\"df_valid_y.csv\")"
   ]
  },
  {
   "cell_type": "code",
   "execution_count": null,
   "metadata": {
    "colab": {
     "base_uri": "https://localhost:8080/"
    },
    "id": "9lpIx2QFs-kz",
    "outputId": "87d4a67b-470d-496f-bbe1-3bf04411c3c2"
   },
   "outputs": [
    {
     "name": "stdout",
     "output_type": "stream",
     "text": [
      " * Serving Flask app \"__main__\" (lazy loading)\n",
      " * Environment: production\n",
      "\u001b[31m   WARNING: This is a development server. Do not use it in a production deployment.\u001b[0m\n",
      "\u001b[2m   Use a production WSGI server instead.\u001b[0m\n",
      " * Debug mode: off\n"
     ]
    },
    {
     "name": "stderr",
     "output_type": "stream",
     "text": [
      " * Running on http://127.0.0.1:5000/ (Press CTRL+C to quit)\n"
     ]
    },
    {
     "name": "stdout",
     "output_type": "stream",
     "text": [
      " * Running on http://7a74-35-229-61-96.ngrok.io\n",
      " * Traffic stats available on http://127.0.0.1:4040\n"
     ]
    }
   ],
   "source": [
    "# Обработчики и запуск Flask\n",
    "app = Flask(__name__)\n",
    "run_with_ngrok(app)  # Start ngrok when app is run\n",
    "\n",
    "@app.route('/predict', methods=['GET', 'POST'])\n",
    "def predict():\n",
    "  data = {\"success\": False}\n",
    "  # ensure an image was properly uploaded to our endpoint\n",
    "  if request.method == \"POST\":\n",
    "      description, company_profile, benefits = \"\", \"\", \"qq\"\n",
    "      request_json = request.get_json()\n",
    "  if request_json[\"description\"]:\n",
    "      description = request_json['description']\n",
    "  \n",
    "  if request_json[\"company_profile\"]:\n",
    "      company_profile = request_json['company_profile']\n",
    "\t\t       \n",
    "  if request_json[\"benefits\"]:\n",
    "      benefits = request_json['benefits']\n",
    "  print(description )  \n",
    "  preds = model.predict_proba(pd.DataFrame({\"description\": [description],\n",
    "                                            \"company_profile\": [company_profile],\n",
    "                                            \"benefits\": [benefits]}))\n",
    "  data[\"predictions\"] = preds[:, 1][0]\n",
    "  data[\"description\"] = description\n",
    "\t# indicate that the request was a success\n",
    "  data[\"success\"] = True\n",
    "\n",
    "\t# return the data dictionary as a JSON response\n",
    "  return jsonify(data)\n",
    "\n",
    "\n",
    "if __name__ == '__main__':\n",
    "    app.run()"
   ]
  },
  {
   "cell_type": "code",
   "execution_count": null,
   "metadata": {
    "id": "1tzdhzo2nppQ"
   },
   "outputs": [],
   "source": [
    "# Пример данных\n",
    "data_valid = ('34', 'Private', '226443', 'HS-grad', '9', 'Divorced', 'Adm-clerical', 'Own-child', 'White', '1.0', '0', '0', '40', 'United-States')\n",
    "\n",
    "# формируем запрос\n",
    "def send_json(x):\n",
    "    age, workclass, fnlwgt, education, educational_num, marital_status, occupation, relationship, race, gender, capital_gain, capital_loss, hours_per_week, native_country = x\n",
    "    body = {'age': age, 'workclass': workclass, 'fnlwgt': fnlwgt, \n",
    "            'education': education, 'educational-num': educational_num, 'marital-status': marital_status, \n",
    "            'occupation': occupation, 'relationship': relationship, 'race': race, 'gender': gender, \n",
    "           'capital-gain': capital_gain, 'capital-loss': capital_loss, 'hours-per-week': hours_per_week, \n",
    "            'native-country': native_country} \n",
    "\n",
    "    myurl = 'http://7a74-35-229-61-96.ngrok.io'+'predict'\n",
    "    headers = {'content-type': 'application/json; charset=utf-8'}\n",
    "    response = requests.post(myurl, json=body, headers=headers)\n",
    "    return response.json()['predictions']\n",
    "\n",
    "# обращение к серверу с запросом из одного набора (его построили руками выше - data)\n",
    "if __name__ == '__main__':\n",
    "    response = send_json(data_valid)\n",
    "    print('предсказание',response)"
   ]
  },
  {
   "cell_type": "code",
   "execution_count": null,
   "metadata": {
    "id": "rGhpWM-snppQ"
   },
   "outputs": [],
   "source": []
  },
  {
   "cell_type": "code",
   "execution_count": 69,
   "metadata": {
    "id": "XlLotukGnppQ"
   },
   "outputs": [],
   "source": []
  },
  {
   "cell_type": "code",
   "execution_count": null,
   "metadata": {
    "id": "lkKEpgX2nppR"
   },
   "outputs": [],
   "source": []
  },
  {
   "cell_type": "code",
   "execution_count": null,
   "metadata": {
    "id": "9H3uirA5nppR"
   },
   "outputs": [],
   "source": []
  },
  {
   "cell_type": "code",
   "execution_count": null,
   "metadata": {
    "id": "TgsfmxRhnppR"
   },
   "outputs": [],
   "source": []
  },
  {
   "cell_type": "code",
   "execution_count": null,
   "metadata": {
    "id": "O1bniVw_nppR"
   },
   "outputs": [],
   "source": []
  },
  {
   "cell_type": "code",
   "execution_count": null,
   "metadata": {
    "id": "WtfgG1benppR"
   },
   "outputs": [],
   "source": []
  }
 ],
 "metadata": {
  "colab": {
   "collapsed_sections": [],
   "name": "aberezikov.ipynb",
   "provenance": []
  },
  "kernelspec": {
   "display_name": "Python 3",
   "language": "python",
   "name": "python3"
  },
  "language_info": {
   "codemirror_mode": {
    "name": "ipython",
    "version": 3
   },
   "file_extension": ".py",
   "mimetype": "text/x-python",
   "name": "python",
   "nbconvert_exporter": "python",
   "pygments_lexer": "ipython3",
   "version": "3.8.5"
  }
 },
 "nbformat": 4,
 "nbformat_minor": 1
}
